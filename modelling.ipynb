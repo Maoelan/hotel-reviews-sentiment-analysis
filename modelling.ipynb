{
 "cells": [
  {
   "cell_type": "code",
   "execution_count": 64,
   "metadata": {},
   "outputs": [],
   "source": [
    "import pandas as pd\n",
    "import numpy as np\n",
    "import tensorflow as tf\n",
    "from sklearn.model_selection import train_test_split\n",
    "from tensorflow.keras.preprocessing.text import Tokenizer\n",
    "from tensorflow.keras.preprocessing.sequence import pad_sequences\n",
    "from tensorflow.keras import regularizers\n",
    "from tensorflow.keras.utils import plot_model\n",
    "import matplotlib.pyplot as plt\n",
    "from sklearn.metrics import roc_curve, auc"
   ]
  },
  {
   "cell_type": "code",
   "execution_count": 42,
   "metadata": {},
   "outputs": [
    {
     "data": {
      "text/html": [
       "<div>\n",
       "<style scoped>\n",
       "    .dataframe tbody tr th:only-of-type {\n",
       "        vertical-align: middle;\n",
       "    }\n",
       "\n",
       "    .dataframe tbody tr th {\n",
       "        vertical-align: top;\n",
       "    }\n",
       "\n",
       "    .dataframe thead th {\n",
       "        text-align: right;\n",
       "    }\n",
       "</style>\n",
       "<table border=\"1\" class=\"dataframe\">\n",
       "  <thead>\n",
       "    <tr style=\"text-align: right;\">\n",
       "      <th></th>\n",
       "      <th>combined_review</th>\n",
       "      <th>sentiment_label</th>\n",
       "    </tr>\n",
       "  </thead>\n",
       "  <tbody>\n",
       "    <tr>\n",
       "      <th>35253</th>\n",
       "      <td>staff helpful location great</td>\n",
       "      <td>Good</td>\n",
       "    </tr>\n",
       "    <tr>\n",
       "      <th>364142</th>\n",
       "      <td>bed ok would like big bed except devided bed</td>\n",
       "      <td>Good</td>\n",
       "    </tr>\n",
       "    <tr>\n",
       "      <th>145135</th>\n",
       "      <td>tiny room paper thin wall meaning hear everyth...</td>\n",
       "      <td>Bad</td>\n",
       "    </tr>\n",
       "    <tr>\n",
       "      <th>306229</th>\n",
       "      <td>delicious complimentary cake arrival</td>\n",
       "      <td>Good</td>\n",
       "    </tr>\n",
       "    <tr>\n",
       "      <th>70175</th>\n",
       "      <td>room underground wifi work friendly staff</td>\n",
       "      <td>Good</td>\n",
       "    </tr>\n",
       "    <tr>\n",
       "      <th>...</th>\n",
       "      <td>...</td>\n",
       "      <td>...</td>\n",
       "    </tr>\n",
       "    <tr>\n",
       "      <th>259178</th>\n",
       "      <td>bad room service clean nice modern</td>\n",
       "      <td>Good</td>\n",
       "    </tr>\n",
       "    <tr>\n",
       "      <th>365838</th>\n",
       "      <td>small point mean loud fridge room kept awake d...</td>\n",
       "      <td>Good</td>\n",
       "    </tr>\n",
       "    <tr>\n",
       "      <th>131932</th>\n",
       "      <td>asked sewing kit 4 5 star hotel would odd hair...</td>\n",
       "      <td>Good</td>\n",
       "    </tr>\n",
       "    <tr>\n",
       "      <th>146867</th>\n",
       "      <td>extremely helpful staff especially concierge p...</td>\n",
       "      <td>Good</td>\n",
       "    </tr>\n",
       "    <tr>\n",
       "      <th>121958</th>\n",
       "      <td>ordered morning paper arrive ask reception lit...</td>\n",
       "      <td>Good</td>\n",
       "    </tr>\n",
       "  </tbody>\n",
       "</table>\n",
       "<p>486763 rows × 2 columns</p>\n",
       "</div>"
      ],
      "text/plain": [
       "                                          combined_review sentiment_label\n",
       "35253                        staff helpful location great            Good\n",
       "364142       bed ok would like big bed except devided bed            Good\n",
       "145135  tiny room paper thin wall meaning hear everyth...             Bad\n",
       "306229               delicious complimentary cake arrival            Good\n",
       "70175           room underground wifi work friendly staff            Good\n",
       "...                                                   ...             ...\n",
       "259178                 bad room service clean nice modern            Good\n",
       "365838  small point mean loud fridge room kept awake d...            Good\n",
       "131932  asked sewing kit 4 5 star hotel would odd hair...            Good\n",
       "146867  extremely helpful staff especially concierge p...            Good\n",
       "121958  ordered morning paper arrive ask reception lit...            Good\n",
       "\n",
       "[486763 rows x 2 columns]"
      ]
     },
     "execution_count": 42,
     "metadata": {},
     "output_type": "execute_result"
    }
   ],
   "source": [
    "data = pd.read_csv('data/review_clean.csv')\n",
    "data = data.sample(frac=1, random_state=42)\n",
    "data"
   ]
  },
  {
   "cell_type": "code",
   "execution_count": 43,
   "metadata": {},
   "outputs": [],
   "source": [
    "x = data['combined_review'].values\n",
    "y = data['sentiment_label'].values"
   ]
  },
  {
   "cell_type": "code",
   "execution_count": 44,
   "metadata": {},
   "outputs": [],
   "source": [
    "review_train, review_test, label_train, label_test = train_test_split(x, y, test_size=0.2, random_state=42)"
   ]
  },
  {
   "cell_type": "code",
   "execution_count": 45,
   "metadata": {},
   "outputs": [
    {
     "data": {
      "text/plain": [
       "array(['everything monument perfect six star rating would select 6',\n",
       "       'bed super', 'room hot excellent customer service friendly staff',\n",
       "       ..., 'beautiful breakfast enough fill u came home',\n",
       "       'people front desk manager rude helpful could figure send receive fax interest polite offer travel suggestion room nice location forgettable',\n",
       "       'thing london still quite expensive nice room friendly staff great atmosphere'],\n",
       "      dtype=object)"
      ]
     },
     "execution_count": 45,
     "metadata": {},
     "output_type": "execute_result"
    }
   ],
   "source": [
    "review_train"
   ]
  },
  {
   "cell_type": "code",
   "execution_count": 46,
   "metadata": {},
   "outputs": [
    {
     "data": {
      "text/plain": [
       "array(['nothing quiet easy get good night sleep',\n",
       "       'room layout cupboard room airport shuttle elevator need refurbishment location quiet room',\n",
       "       'receptionist friendly answer question one word yes', ...,\n",
       "       'one girl named veladimir reception ignorant attitude guest acceptable instead guiding guest try show norm try undermine guest require hospitality course rest staff good friendly room comfort value money cleaniness',\n",
       "       'hard pillowswhich impacted comfortable sleep good breakfast buffet large choice food available complimentary drink fridge appreciated summer',\n",
       "       'nothing really would definitely stay room spacious bed comfortable also liked shop well within walking distance check check efficient front desk staff friendly helpful really liked free soft drink fridge sky sport tv also liked elemi bathroom product'],\n",
       "      dtype=object)"
      ]
     },
     "execution_count": 46,
     "metadata": {},
     "output_type": "execute_result"
    }
   ],
   "source": [
    "review_test"
   ]
  },
  {
   "cell_type": "code",
   "execution_count": 47,
   "metadata": {},
   "outputs": [
    {
     "data": {
      "text/plain": [
       "array(['Good', 'Good', 'Good', ..., 'Good', 'Good', 'Good'], dtype=object)"
      ]
     },
     "execution_count": 47,
     "metadata": {},
     "output_type": "execute_result"
    }
   ],
   "source": [
    "label_train"
   ]
  },
  {
   "cell_type": "code",
   "execution_count": 48,
   "metadata": {},
   "outputs": [
    {
     "data": {
      "text/plain": [
       "array(['Good', 'Good', 'Good', ..., 'Good', 'Good', 'Good'], dtype=object)"
      ]
     },
     "execution_count": 48,
     "metadata": {},
     "output_type": "execute_result"
    }
   ],
   "source": [
    "label_test"
   ]
  },
  {
   "cell_type": "code",
   "execution_count": 49,
   "metadata": {},
   "outputs": [],
   "source": [
    "label_train = pd.get_dummies(label_train, columns=['sentiment_label'])\n",
    "label_test = pd.get_dummies(label_test, columns=['sentiment_label'])\n"
   ]
  },
  {
   "cell_type": "code",
   "execution_count": 50,
   "metadata": {},
   "outputs": [
    {
     "data": {
      "text/plain": [
       "array([[0, 1],\n",
       "       [0, 1],\n",
       "       [0, 1],\n",
       "       ...,\n",
       "       [0, 1],\n",
       "       [0, 1],\n",
       "       [0, 1]], dtype=uint8)"
      ]
     },
     "execution_count": 50,
     "metadata": {},
     "output_type": "execute_result"
    }
   ],
   "source": [
    "label_train = np.array(label_train)\n",
    "label_train"
   ]
  },
  {
   "cell_type": "code",
   "execution_count": 51,
   "metadata": {},
   "outputs": [
    {
     "data": {
      "text/plain": [
       "array([[0, 1],\n",
       "       [0, 1],\n",
       "       [0, 1],\n",
       "       ...,\n",
       "       [0, 1],\n",
       "       [0, 1],\n",
       "       [0, 1]], dtype=uint8)"
      ]
     },
     "execution_count": 51,
     "metadata": {},
     "output_type": "execute_result"
    }
   ],
   "source": [
    "label_test = np.array(label_test)\n",
    "label_test"
   ]
  },
  {
   "cell_type": "code",
   "execution_count": 52,
   "metadata": {},
   "outputs": [
    {
     "data": {
      "text/plain": [
       "array(['everything monument perfect six star rating would select 6',\n",
       "       'bed super', 'room hot excellent customer service friendly staff',\n",
       "       ..., 'beautiful breakfast enough fill u came home',\n",
       "       'people front desk manager rude helpful could figure send receive fax interest polite offer travel suggestion room nice location forgettable',\n",
       "       'thing london still quite expensive nice room friendly staff great atmosphere'],\n",
       "      dtype=object)"
      ]
     },
     "execution_count": 52,
     "metadata": {},
     "output_type": "execute_result"
    }
   ],
   "source": [
    "review_train"
   ]
  },
  {
   "cell_type": "code",
   "execution_count": 53,
   "metadata": {},
   "outputs": [
    {
     "data": {
      "text/plain": [
       "array(['nothing quiet easy get good night sleep',\n",
       "       'room layout cupboard room airport shuttle elevator need refurbishment location quiet room',\n",
       "       'receptionist friendly answer question one word yes', ...,\n",
       "       'one girl named veladimir reception ignorant attitude guest acceptable instead guiding guest try show norm try undermine guest require hospitality course rest staff good friendly room comfort value money cleaniness',\n",
       "       'hard pillowswhich impacted comfortable sleep good breakfast buffet large choice food available complimentary drink fridge appreciated summer',\n",
       "       'nothing really would definitely stay room spacious bed comfortable also liked shop well within walking distance check check efficient front desk staff friendly helpful really liked free soft drink fridge sky sport tv also liked elemi bathroom product'],\n",
       "      dtype=object)"
      ]
     },
     "execution_count": 53,
     "metadata": {},
     "output_type": "execute_result"
    }
   ],
   "source": [
    "review_test"
   ]
  },
  {
   "cell_type": "code",
   "execution_count": 54,
   "metadata": {},
   "outputs": [],
   "source": [
    "tokenizer = Tokenizer(num_words=5000, oov_token='<OOV>')\n",
    "tokenizer.fit_on_texts(review_train)\n",
    "\n",
    "train_sequences = tokenizer.texts_to_sequences(review_train)\n",
    "test_sequences = tokenizer.texts_to_sequences(review_test)"
   ]
  },
  {
   "cell_type": "code",
   "execution_count": 55,
   "metadata": {},
   "outputs": [],
   "source": [
    "maxlen = 50\n",
    "train_padded = pad_sequences(train_sequences, \n",
    "                            padding='post',\n",
    "                            maxlen=maxlen,\n",
    "                            truncating='post')\n",
    "\n",
    "test_padded = pad_sequences(test_sequences,\n",
    "                            padding='post',\n",
    "                            maxlen=maxlen,\n",
    "                            truncating='post')"
   ]
  },
  {
   "cell_type": "code",
   "execution_count": 56,
   "metadata": {},
   "outputs": [],
   "source": [
    "model = tf.keras.Sequential([\n",
    "    tf.keras.layers.Embedding(input_dim=5000, output_dim=16, input_length=maxlen,\n",
    "                            embeddings_regularizer=regularizers.l2(0.001)),\n",
    "    tf.keras.layers.GRU(units=64, dropout=0.2, recurrent_dropout=0.2, return_sequences=True),\n",
    "    tf.keras.layers.Dropout(0.2),\n",
    "    tf.keras.layers.GRU(units=32, dropout=0.2, recurrent_dropout=0.2),\n",
    "    tf.keras.layers.Dropout(0.2),\n",
    "    tf.keras.layers.Dense(2, activation='softmax')\n",
    "])\n"
   ]
  },
  {
   "cell_type": "code",
   "execution_count": 57,
   "metadata": {},
   "outputs": [
    {
     "name": "stderr",
     "output_type": "stream",
     "text": [
      "c:\\Users\\Asus\\anaconda3\\lib\\site-packages\\keras\\optimizers\\optimizer_v2\\adam.py:114: UserWarning: The `lr` argument is deprecated, use `learning_rate` instead.\n",
      "  super().__init__(name, **kwargs)\n"
     ]
    }
   ],
   "source": [
    "optimizer = tf.keras.optimizers.Adam(lr=0.001)\n",
    "model.compile(optimizer=optimizer,\n",
    "            loss='categorical_crossentropy',\n",
    "            metrics=['accuracy'])"
   ]
  },
  {
   "cell_type": "code",
   "execution_count": 58,
   "metadata": {},
   "outputs": [
    {
     "name": "stdout",
     "output_type": "stream",
     "text": [
      "Model: \"sequential_2\"\n",
      "_________________________________________________________________\n",
      " Layer (type)                Output Shape              Param #   \n",
      "=================================================================\n",
      " embedding_2 (Embedding)     (None, 50, 16)            80000     \n",
      "                                                                 \n",
      " gru_4 (GRU)                 (None, 50, 64)            15744     \n",
      "                                                                 \n",
      " dropout_4 (Dropout)         (None, 50, 64)            0         \n",
      "                                                                 \n",
      " gru_5 (GRU)                 (None, 32)                9408      \n",
      "                                                                 \n",
      " dropout_5 (Dropout)         (None, 32)                0         \n",
      "                                                                 \n",
      " dense_2 (Dense)             (None, 2)                 66        \n",
      "                                                                 \n",
      "=================================================================\n",
      "Total params: 105,218\n",
      "Trainable params: 105,218\n",
      "Non-trainable params: 0\n",
      "_________________________________________________________________\n"
     ]
    }
   ],
   "source": [
    "model.summary()"
   ]
  },
  {
   "cell_type": "code",
   "execution_count": 63,
   "metadata": {},
   "outputs": [
    {
     "data": {
      "image/png": "[encoded data removed]",
      "text/plain": [
       "<IPython.core.display.Image object>"
      ]
     },
     "execution_count": 63,
     "metadata": {},
     "output_type": "execute_result"
    }
   ],
   "source": [
    "plot_model(model, to_file='model.png', show_shapes=True, show_layer_names=True)"
   ]
  },
  {
   "cell_type": "code",
   "execution_count": 59,
   "metadata": {},
   "outputs": [],
   "source": [
    "\n",
    "class myCallback(tf.keras.callbacks.Callback):\n",
    "    def on_epoch_end(self, epoch, logs={}):\n",
    "        if logs.get('accuracy') >= 0.95:\n",
    "            print(\"\\nAkurasi telah mencapai >= 95%\")\n",
    "            self.model.stop_training = True\n",
    "            \n",
    "callbacks = myCallback()\n"
   ]
  },
  {
   "cell_type": "code",
   "execution_count": 60,
   "metadata": {},
   "outputs": [
    {
     "name": "stdout",
     "output_type": "stream",
     "text": [
      "Epoch 1/20\n",
      "3043/3043 [==============================] - 515s 164ms/step - loss: 0.1901 - accuracy: 0.9414 - val_loss: 0.1649 - val_accuracy: 0.9416\n",
      "Epoch 2/20\n",
      "3043/3043 [==============================] - 530s 174ms/step - loss: 0.1629 - accuracy: 0.9449 - val_loss: 0.1583 - val_accuracy: 0.9463\n",
      "Epoch 3/20\n",
      "3043/3043 [==============================] - 441s 145ms/step - loss: 0.1585 - accuracy: 0.9460 - val_loss: 0.1530 - val_accuracy: 0.9482\n",
      "Epoch 4/20\n",
      "3043/3043 [==============================] - 438s 144ms/step - loss: 0.1569 - accuracy: 0.9464 - val_loss: 0.1529 - val_accuracy: 0.9476\n",
      "Epoch 5/20\n",
      "3043/3043 [==============================] - 440s 145ms/step - loss: 0.1558 - accuracy: 0.9470 - val_loss: 0.1561 - val_accuracy: 0.9475\n",
      "Epoch 6/20\n",
      "3043/3043 [==============================] - 441s 145ms/step - loss: 0.1553 - accuracy: 0.9470 - val_loss: 0.1523 - val_accuracy: 0.9481\n",
      "Epoch 7/20\n",
      "3043/3043 [==============================] - 485s 159ms/step - loss: 0.1543 - accuracy: 0.9473 - val_loss: 0.1511 - val_accuracy: 0.9483\n",
      "Epoch 8/20\n",
      "3043/3043 [==============================] - 441s 145ms/step - loss: 0.1541 - accuracy: 0.9474 - val_loss: 0.1516 - val_accuracy: 0.9480\n",
      "Epoch 9/20\n",
      "3043/3043 [==============================] - 442s 145ms/step - loss: 0.1537 - accuracy: 0.9474 - val_loss: 0.1528 - val_accuracy: 0.9486\n",
      "Epoch 10/20\n",
      "3043/3043 [==============================] - 434s 143ms/step - loss: 0.1538 - accuracy: 0.9474 - val_loss: 0.1521 - val_accuracy: 0.9482\n",
      "Epoch 11/20\n",
      "3043/3043 [==============================] - 439s 144ms/step - loss: 0.1532 - accuracy: 0.9473 - val_loss: 0.1487 - val_accuracy: 0.9487\n",
      "Epoch 12/20\n",
      "3043/3043 [==============================] - 421s 138ms/step - loss: 0.1528 - accuracy: 0.9476 - val_loss: 0.1496 - val_accuracy: 0.9494\n",
      "Epoch 13/20\n",
      "3043/3043 [==============================] - 422s 139ms/step - loss: 0.1527 - accuracy: 0.9477 - val_loss: 0.1503 - val_accuracy: 0.9484\n",
      "Epoch 14/20\n",
      "3043/3043 [==============================] - 419s 138ms/step - loss: 0.1526 - accuracy: 0.9477 - val_loss: 0.1499 - val_accuracy: 0.9491\n",
      "Epoch 15/20\n",
      "3043/3043 [==============================] - 418s 137ms/step - loss: 0.1525 - accuracy: 0.9475 - val_loss: 0.1497 - val_accuracy: 0.9490\n",
      "Epoch 16/20\n",
      "3043/3043 [==============================] - 420s 138ms/step - loss: 0.1520 - accuracy: 0.9478 - val_loss: 0.1492 - val_accuracy: 0.9492\n",
      "Epoch 17/20\n",
      "3043/3043 [==============================] - 418s 137ms/step - loss: 0.1522 - accuracy: 0.9476 - val_loss: 0.1493 - val_accuracy: 0.9486\n",
      "Epoch 18/20\n",
      "3043/3043 [==============================] - 418s 137ms/step - loss: 0.1519 - accuracy: 0.9479 - val_loss: 0.1492 - val_accuracy: 0.9486\n",
      "Epoch 19/20\n",
      "3043/3043 [==============================] - 416s 137ms/step - loss: 0.1517 - accuracy: 0.9480 - val_loss: 0.1489 - val_accuracy: 0.9491\n",
      "Epoch 20/20\n",
      "3043/3043 [==============================] - 414s 136ms/step - loss: 0.1515 - accuracy: 0.9481 - val_loss: 0.1484 - val_accuracy: 0.9494\n"
     ]
    }
   ],
   "source": [
    "history = model.fit(train_padded, label_train, \n",
    "        epochs=20, \n",
    "        batch_size=128, \n",
    "        validation_data=(test_padded, label_test), \n",
    "        callbacks=[callbacks])"
   ]
  },
  {
   "cell_type": "code",
   "execution_count": 65,
   "metadata": {},
   "outputs": [
    {
     "name": "stdout",
     "output_type": "stream",
     "text": [
      "3043/3043 [==============================] - 46s 14ms/step\n"
     ]
    },
    {
     "data": {
      "image/png": "[encoded data removed]",
      "text/plain": [
       "<Figure size 432x288 with 1 Axes>"
      ]
     },
     "metadata": {
      "needs_background": "light"
     },
     "output_type": "display_data"
    }
   ],
   "source": [
    "y_pred_prob = model.predict(test_padded)\n",
    "\n",
    "fpr, tpr, threshold = roc_curve(label_test[:, 1], y_pred_prob[:, 1])\n",
    "roc_auc = auc(fpr, tpr)\n",
    "\n",
    "plt.title('Receiver Operating Characteristic')\n",
    "plt.plot(fpr, tpr, 'b', label = 'AUC = %0.2f' % roc_auc)\n",
    "plt.legend(loc = 'lower right')\n",
    "plt.plot([0, 1], [0, 1],'r--')\n",
    "plt.xlim([0, 1])\n",
    "plt.ylim([0, 1])\n",
    "plt.ylabel('True Positive Rate')\n",
    "plt.xlabel('False Positive Rate')\n",
    "plt.show()"
   ]
  },
  {
   "cell_type": "code",
   "execution_count": 66,
   "metadata": {},
   "outputs": [
    {
     "name": "stdout",
     "output_type": "stream",
     "text": [
      "3043/3043 [==============================] - 44s 15ms/step - loss: 0.1484 - accuracy: 0.9494\n"
     ]
    },
    {
     "data": {
      "text/plain": [
       "[0.1484133005142212, 0.9494006633758545]"
      ]
     },
     "execution_count": 66,
     "metadata": {},
     "output_type": "execute_result"
    }
   ],
   "source": [
    "model.evaluate(test_padded, label_test)"
   ]
  },
  {
   "cell_type": "code",
   "execution_count": 68,
   "metadata": {},
   "outputs": [
    {
     "data": {
      "image/png": "[encoded data removed]",
      "text/plain": [
       "<Figure size 432x288 with 1 Axes>"
      ]
     },
     "metadata": {
      "needs_background": "light"
     },
     "output_type": "display_data"
    }
   ],
   "source": [
    "plt.plot(history.history['accuracy'])\n",
    "plt.plot(history.history['val_accuracy'])\n",
    "plt.title('Model Accuracy')\n",
    "plt.ylabel('accuracy')\n",
    "plt.xlabel('epoch')\n",
    "plt.legend(['train', 'test'], loc='upper left')\n",
    "plt.show()"
   ]
  },
  {
   "cell_type": "code",
   "execution_count": 69,
   "metadata": {},
   "outputs": [
    {
     "data": {
      "image/png": "[encoded data removed]",
      "text/plain": [
       "<Figure size 432x288 with 1 Axes>"
      ]
     },
     "metadata": {
      "needs_background": "light"
     },
     "output_type": "display_data"
    }
   ],
   "source": [
    "plt.plot(history.history['loss'])\n",
    "plt.plot(history.history['val_loss'])\n",
    "plt.title('Loss Model')\n",
    "plt.ylabel('loss')\n",
    "plt.xlabel('epoch')\n",
    "plt.legend(['train', 'test'], loc='upper left')\n",
    "plt.show()"
   ]
  },
  {
   "cell_type": "code",
   "execution_count": null,
   "metadata": {},
   "outputs": [],
   "source": []
  }
 ],
 "metadata": {
  "kernelspec": {
   "display_name": "base",
   "language": "python",
   "name": "python3"
  },
  "language_info": {
   "codemirror_mode": {
    "name": "ipython",
    "version": 3
   },
   "file_extension": ".py",
   "mimetype": "text/x-python",
   "name": "python",
   "nbconvert_exporter": "python",
   "pygments_lexer": "ipython3",
   "version": "3.9.12"
  },
  "orig_nbformat": 4
 },
 "nbformat": 4,
 "nbformat_minor": 2
}
